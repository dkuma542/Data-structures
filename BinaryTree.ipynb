{
 "cells": [
  {
   "cell_type": "code",
   "execution_count": null,
   "id": "237730ae-aceb-4df3-8cd5-a283d44cec6b",
   "metadata": {},
   "outputs": [],
   "source": [
    "#Binary tree has O(log n) Complexity for adding and removing a node."
   ]
  },
  {
   "cell_type": "code",
   "execution_count": 1,
   "id": "78490773-aab1-4078-bdf2-d76aa8f09fd2",
   "metadata": {},
   "outputs": [],
   "source": [
    "class Node:\n",
    "    def __init__(self,value):\n",
    "        #this is the node of amount : value\n",
    "        self.value = value\n",
    "        self.left = None\n",
    "        self.right = None"
   ]
  },
  {
   "cell_type": "code",
   "execution_count": 4,
   "id": "8c6dad9a-66dd-4525-8588-65ac4144fd35",
   "metadata": {},
   "outputs": [],
   "source": [
    "class BinarySearchTree:\n",
    "    def __init__(self):\n",
    "        #constructor of a BST\n",
    "        self.root = None\n",
    "    \n",
    "    def insert(self,value):\n",
    "        #Adding a value in the BST\n",
    "        new_node = Node(value)\n",
    "        if self.root is None:\n",
    "            self.root = new_node\n",
    "            return True\n",
    "        temp = self.root\n",
    "        while(True):\n",
    "            if new_node.value == temp.value:\n",
    "                return False\n",
    "            if new_node.value < temp.value:\n",
    "                if temp.left is None:\n",
    "                    temp.left = new_node\n",
    "                    return True\n",
    "                temp = temp.left\n",
    "            else:\n",
    "                if temp.right is None:\n",
    "                    temp.right = new_node\n",
    "                    return True\n",
    "                temp = temp.right\n",
    "                \n",
    "\n",
    "    def contains(self,value):\n",
    "        if self.root is None:\n",
    "            return False\n",
    "        temp = self.root\n",
    "        while temp is not None:\n",
    "            if value == temp.value:\n",
    "                return True\n",
    "            elif value < temp.value:\n",
    "                temp = temp.left\n",
    "            else:\n",
    "                temp = temp.right\n",
    "        return False\n",
    "    \n",
    "    def min_value(self,start_node):\n",
    "        while start_node.left is not None:\n",
    "            start_node = start_node.left\n",
    "        return start_node"
   ]
  }
 ],
 "metadata": {
  "kernelspec": {
   "display_name": "Python 3 (ipykernel)",
   "language": "python",
   "name": "python3"
  },
  "language_info": {
   "codemirror_mode": {
    "name": "ipython",
    "version": 3
   },
   "file_extension": ".py",
   "mimetype": "text/x-python",
   "name": "python",
   "nbconvert_exporter": "python",
   "pygments_lexer": "ipython3",
   "version": "3.10.2"
  }
 },
 "nbformat": 4,
 "nbformat_minor": 5
}
