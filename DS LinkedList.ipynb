{
 "cells": [
  {
   "cell_type": "code",
   "execution_count": 123,
   "id": "141832e5-409a-4a60-bb61-725942b03550",
   "metadata": {},
   "outputs": [],
   "source": [
    "class Node:\n",
    "    def __init__(self,value):\n",
    "        self.value = value\n",
    "        self.next = None"
   ]
  },
  {
   "cell_type": "code",
   "execution_count": 332,
   "id": "a8d41ef4-220a-4ccb-990e-67ab6e20af74",
   "metadata": {},
   "outputs": [],
   "source": [
    "class LinkedList:\n",
    "    def __init__(self,value):\n",
    "        new_node = Node(value)\n",
    "        self.head = new_node\n",
    "        self.tail = new_node\n",
    "        self.length = 1\n",
    "        \n",
    "    def print_list(self):\n",
    "        tmp = self.head\n",
    "        while tmp is not None:\n",
    "            print(tmp.value)\n",
    "            tmp = tmp.next\n",
    "            \n",
    "    def append(self,value):\n",
    "        new_node = Node(value)\n",
    "        if self.length == 0:\n",
    "            self.head = new_node\n",
    "            self.tail = new_node\n",
    "        else:\n",
    "            self.tail.next = new_node\n",
    "            self.tail = new_node\n",
    "        self.length += 1\n",
    "        return True\n",
    "        \n",
    "    def pop(self):\n",
    "        if self.length == 0:\n",
    "            return None\n",
    "        temp = self.head\n",
    "        pre = self.head\n",
    "        while temp.next is not None:\n",
    "            pre = temp\n",
    "            temp = pre.next\n",
    "        self.tail = pre\n",
    "        self.tail.next = None\n",
    "        self.length -= 1\n",
    "        if self.length == 0:\n",
    "            self.head = None\n",
    "            self.tail = None\n",
    "        return temp.value\n",
    "    \n",
    "    def prepend(self,value):\n",
    "        new_node = Node(value)\n",
    "        if self.length == 0:\n",
    "            self.head = new_node\n",
    "            self.tail = new_node\n",
    "        else:\n",
    "            temp = self.head\n",
    "            self.head = new_node\n",
    "            new_node.next = temp\n",
    "            while temp.next is not None:\n",
    "                temp = temp.next\n",
    "        self.length += 1\n",
    "        return True\n",
    "    \n",
    "    def pop_first(self):\n",
    "        if self.length == 0:\n",
    "            return None\n",
    "        temp = self.head\n",
    "        self.head = self.head.next\n",
    "        temp.next = None\n",
    "        self.length -= 1\n",
    "        if self.length == 0:\n",
    "            self.head = None\n",
    "            self.tail = None\n",
    "        return temp.value\n",
    "    \n",
    "    def get(self,index):\n",
    "        if index < 0 or index >= self.length:\n",
    "            return None\n",
    "        else:\n",
    "            temp = self.head\n",
    "            for _ in range(index):\n",
    "                temp = temp.next\n",
    "            return temp\n",
    "    \n",
    "    def set_value(self,value,index):\n",
    "        temp = self.get(index)\n",
    "        if temp is not None:\n",
    "            temp.value = value\n",
    "            return True\n",
    "        return False\n",
    "    \n",
    "    def insert(self,value,index):\n",
    "        if index >= self.length or index < 0:\n",
    "            return False\n",
    "        elif index == 0:\n",
    "            return self.prepend(value)\n",
    "        elif index == self.length -1:\n",
    "            return self.append(value)\n",
    "        else:\n",
    "            new_node = Node(value)\n",
    "            pre = self.get(index)\n",
    "            temp = pre.next\n",
    "            pre.next = new_node\n",
    "            new_node.next= temp\n",
    "            self.length += 1\n",
    "            return True\n",
    "    \n",
    "    def remove(self,index):\n",
    "        if index < 0 or index >= self.length:\n",
    "            return None\n",
    "        elif index ==0:\n",
    "            return self.pop_first()\n",
    "        elif index == self.length -1:\n",
    "            return self.pop()\n",
    "        pre = self.get(index-1)\n",
    "        temp = pre.next\n",
    "        pre.next=temp.next\n",
    "        temp.next=None\n",
    "        self.length -= 1\n",
    "        return temp.value     "
   ]
  },
  {
   "cell_type": "code",
   "execution_count": 334,
   "id": "7d527543-e2ba-4f01-8c34-2198170ef83a",
   "metadata": {},
   "outputs": [
    {
     "name": "stdout",
     "output_type": "stream",
     "text": [
      "Adding few numbers in list\n",
      "List before prepend\n",
      "324\n",
      "89\n",
      "59\n"
     ]
    },
    {
     "name": "stdin",
     "output_type": "stream",
     "text": [
      "Enter the number you want to prpend 234\n"
     ]
    },
    {
     "name": "stdout",
     "output_type": "stream",
     "text": [
      "list after prepend\n",
      "234\n",
      "324\n",
      "89\n",
      "59\n"
     ]
    }
   ],
   "source": [
    "#Checking Prepend function\n",
    "c = LinkedList(324)\n",
    "print(\"Adding few numbers in list\")\n",
    "c.append(89)\n",
    "c.append(59)\n",
    "print(\"List before prepend\")\n",
    "c.print_list()\n",
    "num = int(input(\"Enter the number you want to prpend\"))\n",
    "print(\"list after prepend\")\n",
    "c.prepend(num)\n",
    "c.print_list()"
   ]
  },
  {
   "cell_type": "code",
   "execution_count": 337,
   "id": "f775a9e9-bb5a-45e7-be67-e88804d0a8ad",
   "metadata": {},
   "outputs": [
    {
     "data": {
      "text/plain": [
       "True"
      ]
     },
     "execution_count": 337,
     "metadata": {},
     "output_type": "execute_result"
    }
   ],
   "source": [
    "c.append(21323)"
   ]
  },
  {
   "cell_type": "code",
   "execution_count": 338,
   "id": "fa00b345-a420-43ca-a84c-179d63716008",
   "metadata": {},
   "outputs": [
    {
     "name": "stdout",
     "output_type": "stream",
     "text": [
      "234\n",
      "324\n",
      "89\n",
      "59\n",
      "213\n",
      "21323\n"
     ]
    }
   ],
   "source": [
    "c.print_list()"
   ]
  },
  {
   "cell_type": "code",
   "execution_count": 347,
   "id": "ee5893ff-9a66-4216-9f45-d682a1ede27c",
   "metadata": {},
   "outputs": [],
   "source": [
    "c.remove(2)"
   ]
  },
  {
   "cell_type": "code",
   "execution_count": 348,
   "id": "a9ece90e-cd92-4be6-9c3a-dc9379d37d08",
   "metadata": {},
   "outputs": [
    {
     "name": "stdout",
     "output_type": "stream",
     "text": [
      "234\n",
      "324\n"
     ]
    }
   ],
   "source": [
    "c.print_list()"
   ]
  },
  {
   "cell_type": "code",
   "execution_count": null,
   "id": "bfb05c9f-69a5-4eeb-acc4-49abc8827391",
   "metadata": {},
   "outputs": [],
   "source": []
  }
 ],
 "metadata": {
  "kernelspec": {
   "display_name": "Python 3 (ipykernel)",
   "language": "python",
   "name": "python3"
  },
  "language_info": {
   "codemirror_mode": {
    "name": "ipython",
    "version": 3
   },
   "file_extension": ".py",
   "mimetype": "text/x-python",
   "name": "python",
   "nbconvert_exporter": "python",
   "pygments_lexer": "ipython3",
   "version": "3.10.2"
  }
 },
 "nbformat": 4,
 "nbformat_minor": 5
}
