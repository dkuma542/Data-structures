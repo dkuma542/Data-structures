{
 "cells": [
  {
   "cell_type": "markdown",
   "id": "c69c0c13-c50b-4529-ab66-0cfb5484445a",
   "metadata": {},
   "source": [
    "Hash is a mathematical function. Dictonaries are stored in the memory as hash tables only.\n",
    "\n",
    "{key1 : value1, key2 : value2:}\n",
    "\n",
    "key1 -> HASH FUNCTION -> Address1\n",
    "key2 -> HASH FUNCTION -> Address2\n",
    "\n",
    "2 features of HASH\n",
    "a) It is one way only, we can not give input as the address and get key associated with it\n",
    "b) Deterministic : every time same kay will give same address, if we use HASH as many time as we want it will give same output for a same key."
   ]
  },
  {
   "cell_type": "code",
   "execution_count": 1,
   "id": "ecf53c93-03a5-459b-b90a-cc3f380f544f",
   "metadata": {},
   "outputs": [
    {
     "data": {
      "text/plain": [
       "'Hash table will a list within a list\\nHandling the collisions\\na)Seperate Chaining\\nb)Linear Probing '"
      ]
     },
     "execution_count": 1,
     "metadata": {},
     "output_type": "execute_result"
    }
   ],
   "source": [
    "\"\"\"Hash table will a list within a list\n",
    "Handling the collisions\n",
    "a)Seperate Chaining\n",
    "b)Linear Probing \"\"\"\n",
    "\n",
    "\n",
    "O(1) is the complexity for hash tables"
   ]
  },
  {
   "cell_type": "code",
   "execution_count": 36,
   "id": "357699a0-b30e-4094-85cb-701bcd333dff",
   "metadata": {},
   "outputs": [],
   "source": [
    "#Creating constructor for our HASH table\n",
    "\n",
    "class HashTable:\n",
    "    def __init__(self,size = 13):\n",
    "        self.data_map = [None]*size\n",
    "        \n",
    "    def _hash(self,key):\n",
    "        my_hash = 0\n",
    "        for letter in key:\n",
    "            my_hash = (my_hash + ord(letter)*19) % (len(self.data_map))\n",
    "        return my_hash\n",
    "    \n",
    "    def print_table(self):\n",
    "        for i, val in enumerate(self.data_map):\n",
    "            print(i,\":\",val)\n",
    "            \n",
    "    def set_items(self,key,value):\n",
    "        index = self._hash(key)\n",
    "        if self.data_map[index] is None:\n",
    "            self.data_map[index] = []    \n",
    "        self.data_map[index].append([key,value])\n",
    "        return True\n",
    "    \n",
    "    def get_item(self,key):\n",
    "        index = self._hash(key)\n",
    "        if self.data_map[index] is not None:\n",
    "            for i in range(len(self.data_map[index])):\n",
    "                if self.data_map[index][i][0] == key:\n",
    "                    return self.data_map[index][i][1]\n",
    "        return None\n",
    "    \n",
    "    def keys(self):\n",
    "        all_keys = []\n",
    "        for i in range(len(self.data_map)):\n",
    "            if self.data_map[i] is not None:\n",
    "                for j in range(len(self.data_map[i])):\n",
    "                    all_keys.append(self.data_map[i][j][0])\n",
    "        return all_keys\n",
    "                    "
   ]
  },
  {
   "cell_type": "code",
   "execution_count": 37,
   "id": "5ca2e748-f902-490a-9057-3e84f22cb50a",
   "metadata": {},
   "outputs": [
    {
     "data": {
      "text/plain": [
       "True"
      ]
     },
     "execution_count": 37,
     "metadata": {},
     "output_type": "execute_result"
    }
   ],
   "source": [
    "tab = HashTable()\n",
    "tab.set_items(\"shirts\",89)"
   ]
  },
  {
   "cell_type": "code",
   "execution_count": 39,
   "id": "b87f8a27-6d01-4e92-92db-1636d6442ab4",
   "metadata": {},
   "outputs": [
    {
     "name": "stdout",
     "output_type": "stream",
     "text": [
      "0 : None\n",
      "1 : None\n",
      "2 : None\n",
      "3 : None\n",
      "4 : None\n",
      "5 : None\n",
      "6 : None\n",
      "7 : None\n",
      "8 : None\n",
      "9 : None\n",
      "10 : [['shirts', 89]]\n",
      "11 : [['pants', 32]]\n",
      "12 : None\n"
     ]
    }
   ],
   "source": [
    "tab.set_items(\"pants\",32)\n",
    "tab.print_table()"
   ]
  },
  {
   "cell_type": "code",
   "execution_count": 40,
   "id": "08a97a9e-ff3c-422e-bb99-a1eba2e85750",
   "metadata": {},
   "outputs": [
    {
     "data": {
      "text/plain": [
       "32"
      ]
     },
     "execution_count": 40,
     "metadata": {},
     "output_type": "execute_result"
    }
   ],
   "source": [
    "tab.get_item('pants')"
   ]
  },
  {
   "cell_type": "code",
   "execution_count": 41,
   "id": "8ba4e86f-1652-428c-a78a-e222b14ca8e7",
   "metadata": {},
   "outputs": [
    {
     "data": {
      "text/plain": [
       "['shirts', 'pants']"
      ]
     },
     "execution_count": 41,
     "metadata": {},
     "output_type": "execute_result"
    }
   ],
   "source": [
    "tab.keys()"
   ]
  },
  {
   "cell_type": "code",
   "execution_count": null,
   "id": "5f76cb3c-8b4b-4676-a2b3-0bb269cf3452",
   "metadata": {},
   "outputs": [],
   "source": []
  }
 ],
 "metadata": {
  "kernelspec": {
   "display_name": "Python 3 (ipykernel)",
   "language": "python",
   "name": "python3"
  },
  "language_info": {
   "codemirror_mode": {
    "name": "ipython",
    "version": 3
   },
   "file_extension": ".py",
   "mimetype": "text/x-python",
   "name": "python",
   "nbconvert_exporter": "python",
   "pygments_lexer": "ipython3",
   "version": "3.10.2"
  }
 },
 "nbformat": 4,
 "nbformat_minor": 5
}
