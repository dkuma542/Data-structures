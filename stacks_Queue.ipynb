{
 "cells": [
  {
   "cell_type": "markdown",
   "id": "de7c54f9-8610-44cc-84f4-9a590888f9d5",
   "metadata": {},
   "source": [
    "Stacks and Queue"
   ]
  },
  {
   "cell_type": "code",
   "execution_count": 6,
   "id": "305da753-e87b-49b6-8d8a-f4115f7f4c3e",
   "metadata": {},
   "outputs": [],
   "source": [
    "class Node:\n",
    "    def __init__(self,value):\n",
    "        #Object for an single node\n",
    "        self.value = value\n",
    "        self.next = None"
   ]
  },
  {
   "cell_type": "code",
   "execution_count": null,
   "id": "ed5a39df-5166-4316-a8f0-7f1e9d459e08",
   "metadata": {},
   "outputs": [],
   "source": [
    "#Stacks are similar to linked list. we will add and remove node from the top only.        \n",
    "class stack:\n",
    "    def __init__(self,value):\n",
    "        new_node = Node(value)\n",
    "        self.top = new_node\n",
    "        self.height = 1\n",
    "        \n",
    "    def print_stack(self):\n",
    "        temp = self.top\n",
    "        while temp is not None:\n",
    "            print(temp.value)\n",
    "            temp = temp.next        \n",
    "        \n",
    "    def push(self,value):\n",
    "        new_node = Node(value)\n",
    "        if self.height ==0:\n",
    "            self.top = new_node\n",
    "        else:\n",
    "            new_node.next = self.top\n",
    "            self.top = new_node\n",
    "        self.height += 1\n",
    "        return True\n",
    "    \n",
    "    def pop(self):\n",
    "        if self.height == 0:\n",
    "            return None\n",
    "        temp = self.top\n",
    "        self.top = temp.next\n",
    "        temp.next = None\n",
    "        self.height -= 1\n",
    "        if self.height ==0:\n",
    "            self.top = None\n",
    "        return temp"
   ]
  },
  {
   "cell_type": "code",
   "execution_count": 27,
   "id": "fbd0c040-c7a4-47d5-a314-4aa5812e7b00",
   "metadata": {},
   "outputs": [],
   "source": [
    "# we will add in the last and remove from the end because both have n(1) complexity\n",
    "class Queue:\n",
    "    def __init__(self,value):\n",
    "        new_node = Node(value)\n",
    "        self.first = new_node\n",
    "        self.last = new_node\n",
    "        self.length = 1\n",
    "        \n",
    "    def print_queue(self):\n",
    "        temp = self.first\n",
    "        while temp is not None:\n",
    "            print(temp.value)\n",
    "            temp = temp.next\n",
    "    \n",
    "    def add(self,value):\n",
    "        new_node = Node(value)\n",
    "        if self.length == 0:\n",
    "            self.first = new_node\n",
    "            self.last = new_node\n",
    "        else:\n",
    "            self.last.next = new_node\n",
    "            self.last = new_node\n",
    "        self.length += 1\n",
    "        return True\n",
    "    \n",
    "    def remove(self):\n",
    "        if self.length == 0:\n",
    "            return None\n",
    "        temp = self.first\n",
    "        self.first = temp.next\n",
    "        temp.next = None\n",
    "        self.length -= 1\n",
    "        if self.length == 0:\n",
    "            self.first = None\n",
    "            self.last  = None\n",
    "        return temp       "
   ]
  }
 ],
 "metadata": {
  "kernelspec": {
   "display_name": "Python 3 (ipykernel)",
   "language": "python",
   "name": "python3"
  },
  "language_info": {
   "codemirror_mode": {
    "name": "ipython",
    "version": 3
   },
   "file_extension": ".py",
   "mimetype": "text/x-python",
   "name": "python",
   "nbconvert_exporter": "python",
   "pygments_lexer": "ipython3",
   "version": "3.10.2"
  }
 },
 "nbformat": 4,
 "nbformat_minor": 5
}
